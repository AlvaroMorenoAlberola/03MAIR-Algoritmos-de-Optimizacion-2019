{
  "nbformat": 4,
  "nbformat_minor": 0,
  "metadata": {
    "colab": {
      "name": "AG2-Álvaro_Moreno.ipynb",
      "version": "0.3.2",
      "provenance": [],
      "collapsed_sections": []
    },
    "kernelspec": {
      "name": "python3",
      "display_name": "Python 3"
    }
  },
  "cells": [
    {
      "metadata": {
        "id": "Z_MFIdhvqhHS",
        "colab_type": "text"
      },
      "cell_type": "markdown",
      "source": [
        "Álvaro Moreno - AG2<br>\n",
        "\n",
        "Actividad Guiada 2<br>\n",
        "\n",
        "URL: [https://github.com/AlvaroMorenoAlberola/03MAIR-Algoritmos-de-Optimizacion-2019/tree/master/AG2](https://github.com/AlvaroMorenoAlberola/03MAIR-Algoritmos-de-Optimizacion-2019/tree/master/AG2)"
      ]
    },
    {
      "metadata": {
        "id": "Gs1poTI7yGpr",
        "colab_type": "code",
        "colab": {}
      },
      "cell_type": "code",
      "source": [
        "from time import time\n",
        "\n",
        "# Cálculo del tiempo de ejecución\n",
        "\n",
        "def calcular_tiempo(f):\n",
        "  \n",
        "  def wrapper(*args, **kwargs):\n",
        "    inicio = time()\n",
        "    resultado = f(*args, **kwargs)\n",
        "    tiempo = time() - inicio\n",
        "    print(\"Tiempo de ejecución para el algoritmo: \" + str(tiempo))\n",
        "    return resultado\n",
        "  \n",
        "  return wrapper"
      ],
      "execution_count": 0,
      "outputs": []
    },
    {
      "metadata": {
        "id": "NsDKD4b_twrg",
        "colab_type": "code",
        "colab": {
          "base_uri": "https://localhost:8080/",
          "height": 54
        },
        "outputId": "0bc6f2c2-ce1f-4519-a3b5-2d287ce8e3bf"
      },
      "cell_type": "code",
      "source": [
        "import random\n",
        "import math\n",
        "\n",
        "tam_lista = 100\n",
        "lista_2D = [ (random.randrange(1, tam_lista*10), random.randrange(1, tam_lista*10)) for _ in range(tam_lista)]\n",
        "print(lista_2D)"
      ],
      "execution_count": 33,
      "outputs": [
        {
          "output_type": "stream",
          "text": [
            "[(307, 730), (178, 580), (529, 345), (742, 650), (545, 276), (199, 496), (591, 907), (199, 38), (710, 166), (62, 231), (662, 933), (962, 961), (602, 707), (434, 285), (127, 317), (205, 695), (359, 85), (148, 294), (386, 967), (137, 3), (145, 158), (959, 319), (623, 632), (938, 486), (418, 264), (278, 448), (318, 106), (947, 470), (287, 416), (77, 89), (351, 33), (541, 987), (731, 882), (478, 279), (279, 837), (921, 957), (717, 218), (664, 232), (646, 525), (363, 808), (207, 530), (375, 742), (689, 951), (825, 468), (945, 924), (1, 904), (972, 430), (781, 186), (792, 427), (571, 77), (145, 210), (550, 59), (5, 173), (832, 725), (936, 757), (734, 986), (150, 643), (991, 173), (834, 50), (338, 397), (537, 179), (99, 32), (458, 111), (936, 424), (90, 60), (640, 541), (232, 931), (513, 919), (123, 217), (55, 498), (659, 778), (97, 216), (799, 974), (988, 905), (974, 994), (170, 969), (287, 315), (535, 132), (550, 993), (583, 261), (232, 58), (911, 796), (381, 241), (419, 500), (514, 564), (700, 172), (550, 549), (630, 817), (533, 359), (524, 32), (768, 785), (421, 750), (253, 136), (691, 282), (897, 789), (481, 668), (874, 736), (228, 470), (274, 910), (448, 922)]\n"
          ],
          "name": "stdout"
        }
      ]
    },
    {
      "metadata": {
        "id": "0o9T7AMiqzjT",
        "colab_type": "code",
        "colab": {
          "base_uri": "https://localhost:8080/",
          "height": 34
        },
        "outputId": "69ac774d-16ac-414e-c63f-1df5a673162d"
      },
      "cell_type": "code",
      "source": [
        "def distancia(A, B):\n",
        "  if type(A) is int or type(A) is float:\n",
        "    return abs(B-A)\n",
        "  else:\n",
        "    return math.sqrt(sum([(A[i] - B[i])**2 for i in range(len(A))]))\n",
        "\n",
        "distancia((2,3), (2,5))"
      ],
      "execution_count": 34,
      "outputs": [
        {
          "output_type": "execute_result",
          "data": {
            "text/plain": [
              "2.0"
            ]
          },
          "metadata": {
            "tags": []
          },
          "execution_count": 34
        }
      ]
    },
    {
      "metadata": {
        "id": "m_tfrySTum0k",
        "colab_type": "code",
        "colab": {
          "base_uri": "https://localhost:8080/",
          "height": 34
        },
        "outputId": "4c87f0b3-57fa-4327-946b-965eb3ad82ac"
      },
      "cell_type": "code",
      "source": [
        "# Fuerza bruta\n",
        "\n",
        "def distancia_fuerza_bruta(lista):\n",
        "  mejor_distancia = 100000e10\n",
        "  A = ()\n",
        "  B = ()\n",
        "  \n",
        "  for i in range(len(lista)):\n",
        "    for j in range(i+1, len(lista)):\n",
        "      dist = distancia(lista[i], lista[j])\n",
        "      if dist < mejor_distancia:\n",
        "        A = lista[i]\n",
        "        B = lista[j]\n",
        "        mejor_distancia = dist\n",
        "  \n",
        "  return [A, B]\n",
        "\n",
        "distancia_fuerza_bruta(lista_2D)"
      ],
      "execution_count": 35,
      "outputs": [
        {
          "output_type": "execute_result",
          "data": {
            "text/plain": [
              "[(541, 987), (550, 993)]"
            ]
          },
          "metadata": {
            "tags": []
          },
          "execution_count": 35
        }
      ]
    },
    {
      "metadata": {
        "id": "6278NQBS5R2t",
        "colab_type": "code",
        "colab": {
          "base_uri": "https://localhost:8080/",
          "height": 51
        },
        "outputId": "34945fdb-ff6e-4149-bc64-e68720b55f04"
      },
      "cell_type": "code",
      "source": [
        "# Divide y vencerás\n",
        "\n",
        "def distancia_divide_y_venceras(lista):\n",
        "  # Fuerza bruta si la lista es pequeña\n",
        "  if len(lista) < 10:\n",
        "    return distancia_fuerza_bruta(lista)\n",
        "  \n",
        "  # Dividir para listas grandes\n",
        "  ordenada = sorted(lista, key=lambda x: x[0])\n",
        "  lista_izq = ordenada[:len(lista)//2]\n",
        "  lista_der = ordenada[len(lista)//2:]\n",
        "  \n",
        "  puntos_lista_izq = distancia_divide_y_venceras(lista_izq)\n",
        "  puntos_lista_der = distancia_divide_y_venceras(lista_der)\n",
        "  \n",
        "  return distancia_fuerza_bruta(puntos_lista_izq + puntos_lista_der)\n",
        "\n",
        "@calcular_tiempo\n",
        "def lanza(lista):\n",
        "  return distancia_divide_y_venceras(lista)\n",
        "  \n",
        "sol = lanza(lista_2D)\n",
        "print(sol)"
      ],
      "execution_count": 36,
      "outputs": [
        {
          "output_type": "stream",
          "text": [
            "Tiempo de ejecución para el algoritmo: 0.0009853839874267578\n",
            "[(700, 172), (710, 166)]\n"
          ],
          "name": "stdout"
        }
      ]
    },
    {
      "metadata": {
        "id": "O_9dTwPqAAHC",
        "colab_type": "code",
        "colab": {
          "base_uri": "https://localhost:8080/",
          "height": 139
        },
        "outputId": "6ffed44c-9d84-48ca-db49-8bb972379217"
      },
      "cell_type": "code",
      "source": [
        "TARIFAS = [\n",
        "    [0,5,4,3,999,999,999],\n",
        "    [999,0,999,2,3,999,11],\n",
        "    [999,999,0,1,999,4,10],\n",
        "    [999,999,999,0,5,6,9],\n",
        "    [999,999,999,999,0,999,4],\n",
        "    [999,999,999,999,999,0,3],\n",
        "    [999,999,999,999,999,999,0]\n",
        "]\n",
        "\n",
        "def calcular_ruta(ruta, desde, hasta):\n",
        "  if desde == hasta:\n",
        "    return desde\n",
        "  else:\n",
        "    return str(calcular_ruta(ruta, desde, ruta[desde][hasta])) + ',' + str(ruta[desde][hasta])\n",
        "\n",
        "# Paseo por el río - Programación dinámica\n",
        "\n",
        "def precios(T):\n",
        "  n = len(T[0])\n",
        "  precios = [ [9999]*n for i in [9999]*n ]\n",
        "  ruta = [ [\"\"]*n for i in [9999]*n ]\n",
        "  \n",
        "  for i in range(n-1):\n",
        "    for j in range(i+1, n):\n",
        "      MIN = T[i][j]\n",
        "      ruta[i][j] = i\n",
        "      \n",
        "      for k in range(i,j):\n",
        "        if precios[i][k] + T[k][j] < MIN:\n",
        "          MIN = min(MIN, precios[i][k] + T[k][j])\n",
        "          ruta[i][j] = k\n",
        "      precios[i][j] = MIN\n",
        "      \n",
        "  return precios, ruta\n",
        "  \n",
        "precios, rutas = precios(TARIFAS)\n",
        "print(precios)\n",
        "print()\n",
        "print(rutas)\n",
        "\n",
        "print(\"\\nLa ruta es:\")\n",
        "calcular_ruta(rutas, 0, 6)"
      ],
      "execution_count": 37,
      "outputs": [
        {
          "output_type": "stream",
          "text": [
            "[[9999, 5, 4, 3, 8, 8, 11], [9999, 9999, 999, 2, 3, 8, 7], [9999, 9999, 9999, 1, 6, 4, 7], [9999, 9999, 9999, 9999, 5, 6, 9], [9999, 9999, 9999, 9999, 9999, 999, 4], [9999, 9999, 9999, 9999, 9999, 9999, 3], [9999, 9999, 9999, 9999, 9999, 9999, 9999]]\n",
            "\n",
            "[['', 0, 0, 0, 1, 2, 5], ['', '', 1, 1, 1, 3, 4], ['', '', '', 2, 3, 2, 5], ['', '', '', '', 3, 3, 3], ['', '', '', '', '', 4, 4], ['', '', '', '', '', '', 5], ['', '', '', '', '', '', '']]\n",
            "\n",
            "La ruta es:\n"
          ],
          "name": "stdout"
        },
        {
          "output_type": "execute_result",
          "data": {
            "text/plain": [
              "'0,0,2,5'"
            ]
          },
          "metadata": {
            "tags": []
          },
          "execution_count": 37
        }
      ]
    }
  ]
}
