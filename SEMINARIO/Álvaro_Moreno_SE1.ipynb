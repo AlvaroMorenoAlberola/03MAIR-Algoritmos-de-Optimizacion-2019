{
  "nbformat": 4,
  "nbformat_minor": 0,
  "metadata": {
    "colab": {
      "name": "Álvaro Moreno - SE1.ipynb",
      "version": "0.3.2",
      "provenance": [],
      "collapsed_sections": []
    },
    "kernelspec": {
      "name": "python3",
      "display_name": "Python 3"
    }
  },
  "cells": [
    {
      "metadata": {
        "id": "hVbXYX-RfPWh",
        "colab_type": "text"
      },
      "cell_type": "markdown",
      "source": [
        "# Algoritmos de optimización - Seminario<br>\n",
        "Nombre y Apellidos: Álvaro Moreno Alberola  <br>\n",
        "Url: https://github.com/AlvaroMorenoAlberola/03MAIR-Algoritmos-de-Optimizacion-2019/tree/master/SEMINARIO<br>\n",
        "Problema:\n",
        ">3. Combinar cifras y operaciones\n",
        "\n",
        "Descripción del problema: Disponemos de las 9 cifras del 1 al 9 (excluimos el cero) y de los 4 signos básicos de las\n",
        "operaciones fundamentales: suma(+), resta(-), multiplicación(*) y división(/). Debemos combinarlos alternativamente sin repetir ninguno de ellos para obtener una\n",
        "cantidad dada\n",
        "\n",
        "(*) La respuesta es obligatoria\n",
        "\n",
        "\n",
        "\n",
        "\n",
        "\n",
        "                                        "
      ]
    },
    {
      "metadata": {
        "id": "3_-exlrTgLd-",
        "colab_type": "text"
      },
      "cell_type": "markdown",
      "source": [
        "(*)¿Cuantas posibilidades hay sin tener en cuenta las restricciones?<br>\n",
        "\n",
        "\n",
        "\n",
        "¿Cuantas posibilidades hay teniendo en cuenta todas las restricciones?\n",
        "\n",
        "\n"
      ]
    },
    {
      "metadata": {
        "id": "WfCUqJyKhPcw",
        "colab_type": "text"
      },
      "cell_type": "markdown",
      "source": [
        "Respuesta\n",
        "\n",
        "Para calcular el número de posibilidades vamos a separar la cuenta en dos partes:\n",
        "\n",
        "\n",
        "\n",
        "*   Posibilidades con la lista de operadores:\n",
        "    \n",
        "    Se trata de obtener todas las posibles listas que se puedan formar con los operadores teniendo en cuenta el orden. Por tanto, fijándonos en el número de operadores, estamos hablando de permutaciones en una lista de 4 elementos. Lo que se traduce en: **4!**\n",
        "    \n",
        "*   Posibilidades con la lista de números:\n",
        "\n",
        "  En este caso, se trata de obtener todas las posibles sublistas del tamaño indicado de la lista de números disponibles. Por tanto, estamos hablando de combinaciones de 5 elementos sobre una lista de 9 elementos, lo que se traduce en: **nCr(9,5)**\n",
        "  \n",
        "<br>\n",
        "\n",
        "Una vez obtenidas todas las posibilidades de las dos listas con las que se van a trabajar, lo único que habría que hacer es multiplicarlas entre sí. En este caso: **nCr(9,5) * 4! = 3024**\n",
        "\n",
        "**Podríamos decir que hay un total de 3024 posibilidades sin tener en cuenta las restricciones.**\n",
        "\n"
      ]
    },
    {
      "metadata": {
        "id": "vcDthbShNnBn",
        "colab_type": "code",
        "colab": {}
      },
      "cell_type": "code",
      "source": [
        ""
      ],
      "execution_count": 0,
      "outputs": []
    },
    {
      "metadata": {
        "id": "dzynfVJahHoY",
        "colab_type": "text"
      },
      "cell_type": "markdown",
      "source": [
        "Modelo para el espacio de soluciones<br>\n",
        "(*) ¿Cual es la estructura de datos que mejor se adapta al problema? Argumentalo.(Es posible que hayas elegido una al principio y veas la necesidad de cambiar, arguentalo)\n"
      ]
    },
    {
      "metadata": {
        "id": "xFIJrOwKi2Ti",
        "colab_type": "text"
      },
      "cell_type": "markdown",
      "source": [
        "Respuesta\n",
        "\n",
        "Creo que una estructura de datos que se adapta bien al problema es la siguiente:\n",
        "\n",
        "\n",
        "*   Una lista que contenga todas las posibles sublistas de números que podrán formar la solución final. Estas sublistas son el resultado de obtener todas las permutaciones de todas las posibles combinaciones del tamaño requerido de la lista inicial de números, [1, 2, 3, 4, 5, 6, 7, 8, 9].\n",
        "*   Una lista que contenga todas las listas que se obtienen de las posibles permutaciones de los operadores.\n",
        "\n",
        "<br>\n",
        "\n",
        "En mi caso, he elegido listas como tipo de dato con el que trabajar porque son facilmente iterables y accesibles. \n",
        "\n"
      ]
    },
    {
      "metadata": {
        "id": "QEdDXHwXNode",
        "colab_type": "code",
        "colab": {}
      },
      "cell_type": "code",
      "source": [
        ""
      ],
      "execution_count": 0,
      "outputs": []
    },
    {
      "metadata": {
        "id": "7Z9U2W7bi-XS",
        "colab_type": "text"
      },
      "cell_type": "markdown",
      "source": [
        "Según el modelo para el espacio de soluciones<br>\n",
        "(*)¿Cual es la función objetivo?\n",
        "\n",
        "(*)¿Es un problema de maximización o minimización?"
      ]
    },
    {
      "metadata": {
        "id": "hBalWLM7j1_d",
        "colab_type": "text"
      },
      "cell_type": "markdown",
      "source": [
        "Respuesta\n",
        "\n",
        "Este **es un problema de búsqueda** de soluciones en el que no existe una función objetivo que haya que maximizar o minimizar. **No se trata de un problema de optimización**."
      ]
    },
    {
      "metadata": {
        "id": "Xboncgw3Npox",
        "colab_type": "code",
        "colab": {}
      },
      "cell_type": "code",
      "source": [
        ""
      ],
      "execution_count": 0,
      "outputs": []
    },
    {
      "metadata": {
        "id": "rlnTYgY1j6I2",
        "colab_type": "text"
      },
      "cell_type": "markdown",
      "source": [
        "Diseña un algoritmo para resolver el problema por fuerza bruta"
      ]
    },
    {
      "metadata": {
        "id": "70rDgxYXkC8r",
        "colab_type": "text"
      },
      "cell_type": "markdown",
      "source": [
        "Respuesta"
      ]
    },
    {
      "metadata": {
        "id": "DdFvnERF9vuq",
        "colab_type": "code",
        "outputId": "e7420242-3544-4acc-dac2-ffdc1fc39a12",
        "colab": {
          "base_uri": "https://localhost:8080/",
          "height": 34
        }
      },
      "cell_type": "code",
      "source": [
        "import itertools\n",
        "\n",
        "\n",
        "def obtenerSubListas(lista, tam):\n",
        "  \n",
        "  resultado = []\n",
        "  \n",
        "  for L in range(0, len(lista)+1):\n",
        "    for sublista in itertools.combinations(lista, L):\n",
        "      if(len(sublista) == tam):\n",
        "        resultado.append(sublista)\n",
        "        \n",
        "  return resultado\n",
        "\n",
        "\n",
        "\n",
        "def obtenerOrdenaciones(lista):\n",
        "  \n",
        "  resultado = []\n",
        "  \n",
        "  ordenaciones = itertools.permutations(lista)\n",
        "  for item in ordenaciones:\n",
        "    resultado.append(list(item))\n",
        "    \n",
        "  return resultado\n",
        "\n",
        "\n",
        "\n",
        "def obtenerEcuacion(N):\n",
        "  \n",
        "  numeros = [str(i) for i in range(1,10)]\n",
        "  operadores = ['+', '-', '*', '/']\n",
        "  \n",
        "  todosOperadores = obtenerOrdenaciones(operadores)\n",
        "  todosNumeros = []\n",
        "  \n",
        "  sublistasNumeros = obtenerSubListas(numeros, 5)\n",
        "  for item in sublistasNumeros:\n",
        "    ordenaciones = obtenerOrdenaciones(item)\n",
        "    for lista in ordenaciones:\n",
        "      todosNumeros.append(lista)\n",
        "      \n",
        "      \n",
        "  for listaOperadores in todosOperadores:\n",
        "    for listaNumeros in todosNumeros:\n",
        "      expresion = ''\n",
        "      for i in range(0,4):\n",
        "        expresion += str(listaNumeros[i]) + str(listaOperadores[i])\n",
        "      expresion += str(listaNumeros[4])\n",
        "      if eval(expresion) == N:\n",
        "        return expresion\n",
        "      \n",
        "  return ''\n",
        "      \n",
        "  \n",
        "obtenerEcuacion(12)"
      ],
      "execution_count": 45,
      "outputs": [
        {
          "output_type": "execute_result",
          "data": {
            "text/plain": [
              "'5+9-1*4/2'"
            ]
          },
          "metadata": {
            "tags": []
          },
          "execution_count": 45
        }
      ]
    },
    {
      "metadata": {
        "id": "tgrnsC2nkFa8",
        "colab_type": "text"
      },
      "cell_type": "markdown",
      "source": [
        "Calcula la complejidad del algoritmo por fuerza bruta"
      ]
    },
    {
      "metadata": {
        "id": "9eUd3xwckP68",
        "colab_type": "text"
      },
      "cell_type": "markdown",
      "source": [
        "Respuesta"
      ]
    },
    {
      "metadata": {
        "id": "lIxANkGVNsRo",
        "colab_type": "code",
        "colab": {}
      },
      "cell_type": "code",
      "source": [
        ""
      ],
      "execution_count": 0,
      "outputs": []
    },
    {
      "metadata": {
        "id": "txbrmLmskReM",
        "colab_type": "text"
      },
      "cell_type": "markdown",
      "source": [
        "(*)Diseña un algoritmo que mejore la complejidad del algortimo por fuerza bruta. Argumenta porque crees que mejora el algoritmo por fuerza bruta"
      ]
    },
    {
      "metadata": {
        "id": "hLrVwt5QkZPD",
        "colab_type": "text"
      },
      "cell_type": "markdown",
      "source": [
        "Respuesta"
      ]
    },
    {
      "metadata": {
        "id": "OQdfmr1YD1nu",
        "colab_type": "code",
        "outputId": "35c64ce2-25a7-47e9-f7d0-2027a21d5b25",
        "colab": {
          "base_uri": "https://localhost:8080/",
          "height": 34
        }
      },
      "cell_type": "code",
      "source": [
        "def evaluarPoda(operador, item, N):\n",
        "  result = True\n",
        "  \n",
        "  if operador not in item:\n",
        "    if '+' in item and '*' in item:\n",
        "      if eval(item) < N:\n",
        "        result = False\n",
        "    if '-' in item and '/' in item:\n",
        "      if eval(item) < N:\n",
        "        result = False\n",
        "  else:\n",
        "    result = False\n",
        "    \n",
        "  return result\n",
        "\n",
        "\n",
        "def ramificacion_y_poda(N):\n",
        "  \n",
        "  numeros = [str(i) for i in range(1,10)]\n",
        "  operadores = ['+', '-', '*', '/']\n",
        "  \n",
        "  ramasNoPodadas = []\n",
        "  \n",
        "  for padre in numeros:\n",
        "    \n",
        "    ramasNoPodadas.append(padre)\n",
        "    ultimoNumero = True\n",
        "    \n",
        "    while(len(ramasNoPodadas[0]) < 9):\n",
        "      \n",
        "      if ultimoNumero == True:\n",
        "        listaTemp = []\n",
        "        for item in ramasNoPodadas:\n",
        "          for op in operadores:\n",
        "            \n",
        "            noPodar = evaluarPoda(op, item, N)\n",
        "            if noPodar:\n",
        "              listaTemp.append(item + op)\n",
        "              \n",
        "        ramasNoPodadas = listaTemp\n",
        "        ultimoNumero = False\n",
        "        \n",
        "      else:\n",
        "        listaTemp = []\n",
        "        for item in ramasNoPodadas:\n",
        "          for num in numeros:\n",
        "            \n",
        "            if num not in item:\n",
        "              listaTemp.append(item + num)\n",
        "              \n",
        "        ramasNoPodadas = listaTemp\n",
        "        ultimoNumero = True\n",
        "        \n",
        "        \n",
        "    for rama in ramasNoPodadas:\n",
        "      if eval(rama) == N:\n",
        "        return rama\n",
        "        \n",
        "    ramasNoPodadas = []\n",
        "    \n",
        "    \n",
        "ramificacion_y_poda(42)"
      ],
      "execution_count": 46,
      "outputs": [
        {
          "output_type": "execute_result",
          "data": {
            "text/plain": [
              "'3+5*9-6/1'"
            ]
          },
          "metadata": {
            "tags": []
          },
          "execution_count": 46
        }
      ]
    },
    {
      "metadata": {
        "id": "eGDB4K6uk1iN",
        "colab_type": "text"
      },
      "cell_type": "markdown",
      "source": [
        "(*)Calcula la complejidad del algoritmo "
      ]
    },
    {
      "metadata": {
        "id": "NhpTh_BPk1ms",
        "colab_type": "text"
      },
      "cell_type": "markdown",
      "source": [
        "Respuesta\n",
        "\n",
        "<br>\n",
        "\n",
        "Para el cálculo de la complejidad se tiene en cuenta lo siguiente:\n",
        "\n",
        "\n",
        "\n",
        "*   n = Tamaño de la lista de números\n",
        "*   m = Tamaño de la lista de operadores\n",
        "\n",
        "<br>\n",
        "\n",
        "El algoritmo anterior desarrollado mediante **Ramificación y Poda** consta de una serie de bucles anidados. El bucle principal recorre la lista de números y tiene la siguiente forma:\n",
        "\n",
        "**for padre in numeros:**\n",
        "\n",
        "<br>\n",
        "\n",
        "Además, en su interior vemos otro par de bucles que afectan considerablemente a la complejidad. Uno recorre la lista de operadores y otro la de números:\n",
        "\n",
        "**for op in operadores:** <br>\n",
        "**for num in numeros:**\n",
        "\n",
        "<br>\n",
        "\n",
        "Los bucles anteriores tal y como están anidados nos llevarían a una complejidad: **n·m + n·n**. <br>\n",
        "Esto, a su vez, se traduciría en: **nm + n^2**\n",
        "\n",
        "<br>\n",
        "\n",
        "Por tanto, podemos afirmar que la complejidad es de **orden cuadrático** (**n^2**)"
      ]
    },
    {
      "metadata": {
        "id": "nREzhkStlCq8",
        "colab_type": "code",
        "colab": {}
      },
      "cell_type": "code",
      "source": [
        ""
      ],
      "execution_count": 0,
      "outputs": []
    },
    {
      "metadata": {
        "id": "3M6QjTsSkmYe",
        "colab_type": "text"
      },
      "cell_type": "markdown",
      "source": [
        "Según el problema (y tenga sentido), diseña un juego de datos de entrada aleatorios"
      ]
    },
    {
      "metadata": {
        "id": "Jc3_OlyNkvjZ",
        "colab_type": "text"
      },
      "cell_type": "markdown",
      "source": [
        "Respuesta\n",
        "\n",
        "En este caso, **no tendría sentido** la generación de datos aleatorios. Esto se debe a que el único dato que recibe el algoritmo como entrada es el número del cual se quiere obtener la ecuación."
      ]
    },
    {
      "metadata": {
        "id": "sJ-N2etjkyWc",
        "colab_type": "code",
        "colab": {}
      },
      "cell_type": "code",
      "source": [
        ""
      ],
      "execution_count": 0,
      "outputs": []
    },
    {
      "metadata": {
        "id": "zy5ZROmjlGo1",
        "colab_type": "text"
      },
      "cell_type": "markdown",
      "source": [
        "Aplica el algoritmo al juego de datos generado"
      ]
    },
    {
      "metadata": {
        "id": "_Cmj-PVylMsa",
        "colab_type": "text"
      },
      "cell_type": "markdown",
      "source": [
        "Respuesta"
      ]
    },
    {
      "metadata": {
        "id": "Jkx8GeiYlUz1",
        "colab_type": "code",
        "colab": {}
      },
      "cell_type": "code",
      "source": [
        ""
      ],
      "execution_count": 0,
      "outputs": []
    },
    {
      "metadata": {
        "colab_type": "text",
        "id": "eTFWUJQrtGcv"
      },
      "cell_type": "markdown",
      "source": [
        "Enumera las referencias que has utilizado(si ha sido necesario) para llevar a cabo el trabajo"
      ]
    },
    {
      "metadata": {
        "id": "YKQ_mRBttWsP",
        "colab_type": "text"
      },
      "cell_type": "markdown",
      "source": [
        "Respuesta\n",
        "\n",
        "Combinaciones sobre listas en Python: https://docs.python.org/2/library/itertools.html#itertools.combinations <br>\n",
        "Permutaciones sobre listas en Python: https://docs.python.org/2/library/itertools.html#itertools.permutations"
      ]
    },
    {
      "metadata": {
        "id": "SiBkG1aLORmV",
        "colab_type": "code",
        "colab": {}
      },
      "cell_type": "code",
      "source": [
        ""
      ],
      "execution_count": 0,
      "outputs": []
    },
    {
      "metadata": {
        "id": "kAkDPUyRtYyH",
        "colab_type": "text"
      },
      "cell_type": "markdown",
      "source": [
        "Describe brevemente las lineas de como crees que es posible avanzar en el estudio del problema. Ten en cuenta incluso posibles variaciones del problema y/o variaciones al alza del tamaño"
      ]
    },
    {
      "metadata": {
        "id": "IE0uZmo-tZu-",
        "colab_type": "text"
      },
      "cell_type": "markdown",
      "source": [
        "Respuesta\n",
        "\n",
        "Sería interesante realizar este mismo problema añadiendo más numeros y operadores. Un ejemplo podría ser añadir el operador **'%'**, haciendo referencia al **resto de la división**. En este caso, habría que añadir un número más a la ecuación."
      ]
    }
  ]
}